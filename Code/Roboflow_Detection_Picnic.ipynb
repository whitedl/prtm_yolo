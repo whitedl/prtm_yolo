{
 "cells": [
  {
   "cell_type": "code",
   "execution_count": 3,
   "metadata": {},
   "outputs": [],
   "source": [
    "import os \n",
    "from ultralytics import YOLO\n",
    "from pathlib import Path\n",
    "import cv2\n",
    "import csv\n",
    "from roboflow import Roboflow"
   ]
  },
  {
   "cell_type": "markdown",
   "metadata": {},
   "source": [
    "Train Model \n",
    "A YOLO .pt file is a model file used for the YOLO (You Only Look Once) object detection algorithm. Specifically, it is a PyTorch model file that contains a pre-trained model.\n",
    "\n",
    "Key Components of a .pt File:\n",
    "- Model Weights: It stores the learned parameters (weights) of the YOLO model, which are adjusted during the training process. These weights help the model detect objects in images.\n",
    "- Model Architecture: It also contains the architecture of the YOLO network (such as YOLOv8, YOLOv5, etc.). This defines the structure of the layers, the number of neurons, and other important architectural details.\n",
    "\n",
    "Pre-trained or Custom Model:\n",
    "- Pre-trained models: These are YOLO models trained on large datasets like COCO, which can be fine-tuned for specific use cases.\n",
    "- Custom models: These .pt files can also be generated after training the YOLO model on custom datasets for specific object detection tasks (e.g., detecting specific objects like cars, humans, etc.).\n",
    "- Inference Ready: The .pt file is used for both training and inference. You can load it into a YOLO implementation (using PyTorch) and directly use it to detect objects in images or video.\n",
    "\n",
    "Multiple versions for YOLOv8: \n",
    "- yolov8n.pt (nano) is primarily used for test and code development. Fast.\n",
    "- yolov8s.pt (small) is a balance between size and performance, this is still lightweight but slightly more capable than the Nano model.\n",
    "- Additional models incresing in size and complexity (medium, large, and extra-large). More time is required to train as you step up in model variants.\n",
    "\n",
    "Time requirements:\n",
    "- Using yolov8s.pt with Roboflow version 4 training data (humans and people) with 100 epochs. The training took ~30 minutes on a MAC M1 processor. \n",
    "- For testing use yolovn.pt for debugging and preformance review."
   ]
  },
  {
   "cell_type": "code",
   "execution_count": null,
   "metadata": {},
   "outputs": [],
   "source": [
    "# Using YOLOv8. A number of different models to use. \n",
    "# Load the YOLOv8 small model\n",
    "model = YOLO('yolov8s.pt')\n",
    "\n",
    "# Train the model using your custom dataset. Review \"data.yaml\" description and detection objects\n",
    "results = model.train(\n",
    "    #data=f'/Users/davidwhite/Yolo_Code/prtm_yolo/Code/prtm_virgina-6/data.yaml',  # Path to the dataset YAML file. Needs to be UPDATED with NEW TRAINING DATA for MAC\n",
    "    data=r'D:\\\\Yolo_Code\\\\prtm_yolo\\\\Code\\\\prtm_virgina-6\\\\data.yaml',  # Path to the dataset YAML file. Needs to be UPDATED with NEW TRAINING DATA for PC\n",
    "    epochs=100,                            # Number of epochs to train\n",
    "    imgsz=640,                             # Image size\n",
    "    project='runs/train',                  # Directory where models are saved\n",
    "    name='custom_yolo8s_experiment_ver6'   # Name for the experiment\n",
    ")"
   ]
  },
  {
   "cell_type": "code",
   "execution_count": null,
   "metadata": {},
   "outputs": [],
   "source": [
    "# Train model\n",
    "results = model.train(data=\"coco8.yaml\", epochs=100, imgsz=640)\n",
    "\n",
    "# results = model.train(source=Path('~/Yolo_Code/prtm_yolo/datasets/coco8.yaml').expanduser(), save=True)\n",
    "\n",
    "\n",
    "\"\"\" model.train( \"\"\"\n",
    "\"\"\" epochs=100,         # Increase or decrease based on your needs \"\"\"\n",
    "\"\"\"     batch=16,           # Adjust based on available GPU memory \"\"\"\n",
    "\"\"\"     imgsz=640,          # Try different sizes (e.g., 416, 512, 640) \"\"\"\n",
    "\"\"\"     lr0=0.01,           # Initial learning rate (experiment with different values) \"\"\"\n",
    "\"\"\"     lrf=0.1,            # Final learning rate (if using a learning rate scheduler) \"\"\"\n",
    "\"\"\"     momentum=0.937,     # Momentum (adjust as needed) \"\"\"\n",
    "\"\"\"     weight_decay=0.0005, # Regularization parameter \"\"\"\n",
    "\"\"\"     name='yolov8n_experiment', \"\"\"\n",
    "\"\"\"     save_period=10,     # Save checkpoints every N epochs \"\"\"\n",
    "\"\"\"     augment=True        # Use data augmentation \"\"\"\n",
    "\"\"\" ) \"\"\""
   ]
  },
  {
   "cell_type": "code",
   "execution_count": 12,
   "metadata": {},
   "outputs": [
    {
     "name": "stdout",
     "output_type": "stream",
     "text": [
      "/Users/davidwhite/Yolo_Code/prtm_yolo/datasets/fh.png\n"
     ]
    }
   ],
   "source": [
    "# Path to the folder containing images\n",
    "#image_path = '/Users/davidwhite/Yolo_Code/prtm_yolo/datasets'\n",
    "image_path = Path('~/Yolo_Code/prtm_yolo/datasets/fh.png').expanduser()\n",
    "image_path = str(image_path)\n",
    "print(image_path)"
   ]
  },
  {
   "cell_type": "code",
   "execution_count": null,
   "metadata": {},
   "outputs": [],
   "source": [
    "# Perform inference on a single image\n",
    "results = model.predict(source=Path('~/Yolo_Code/prtm_yolo/datasets/fh.png').expanduser(), save=True)\n",
    "\n",
    "# Extract detection details\n",
    "detection_data = []\n",
    "for result in results:\n",
    "    for detection in result.boxes.data:\n",
    "        x1, y1, x2, y2, confidence, class_id = detection[:6]\n",
    "        detection_data.append([x1.item(), y1.item(), x2.item(), y2.item(), confidence.item(), int(class_id)])\n",
    "\n",
    "# Save detection results to CSV\n",
    "csv_filename = 'detections.csv'\n",
    "with open(csv_filename, 'w', newline='') as csvfile:\n",
    "    csvwriter = csv.writer(csvfile)\n",
    "    # Write the header\n",
    "    csvwriter.writerow(['x1', 'y1', 'x2', 'y2', 'confidence', 'class_id'])\n",
    "    # Write detection data\n",
    "    csvwriter.writerows(detection_data)\n",
    "\n",
    "\"\"\" # Optional: Display the image with detections (for visualization) \"\"\"\n",
    "\"\"\" image = cv2.imread(image_path) \"\"\"\n",
    "\"\"\" for detection in detection_data: \"\"\"\n",
    "\"\"\"     x1, y1, x2, y2 = map(int, detection[:4]) \"\"\"\n",
    "\"\"\"     cv2.rectangle(image, (x1, y1), (x2, y2), (0, 255, 0), 2)  # Draw bounding box \"\"\"\n",
    "\"\"\"  \"\"\"\n",
    "\"\"\" cv2.imshow('YOLO Detections', image) \"\"\"\n",
    "\"\"\" cv2.waitKey(0) \"\"\"\n",
    "\"\"\" cv2.destroyAllWindows() \"\"\""
   ]
  },
  {
   "cell_type": "code",
   "execution_count": 1,
   "metadata": {},
   "outputs": [
    {
     "name": "stdout",
     "output_type": "stream",
     "text": [
      "D:\\Yolo_Code\\prtm_yolo\\datasets\\Lake_Anna_Picnic\n"
     ]
    }
   ],
   "source": [
    "# Path to the folder containing images\n",
    "\n",
    "# For PC, change to folder location\n",
    "image_folder = r'D:\\Yolo_Code\\prtm_yolo\\datasets\\Lake_Anna_Picnic'\n",
    "\n",
    "# For MAC, change to folder location\n",
    "# image_folder = '/Users/davidwhite/Yolo_Code/prtm_yolo/datasets/test'\n",
    "\n",
    "# For MAC, change to your folder location. Identifies home directory (i.e., /Users/davidwhite/Yolo_Code/prtm_yolo/.....)\n",
    "# image_folder = Path('~/Yolo_Code/prtm_yolo/datasets/Lake_Anna_Beach/').expanduser()\n",
    "# Converts to a string\n",
    "image_folder = str(image_folder)\n",
    "# Verify thge folder is correct\n",
    "print(image_folder)"
   ]
  },
  {
   "cell_type": "code",
   "execution_count": 6,
   "metadata": {},
   "outputs": [
    {
     "name": "stdout",
     "output_type": "stream",
     "text": [
      "D:/Yolo_Code/prtm_yolo/runs/detect/out_picnic/\n"
     ]
    }
   ],
   "source": [
    "# Folder to save all output images PC\n",
    "output_folder = r'D:/Yolo_Code/prtm_yolo/runs/detect/out_picnic/'\n",
    "\n",
    "# Folder to save all output images MAC. Identifies home directory (i.e., /Users/davidwhite/Yolo_Code/runs/.....).\n",
    "# Use simple path specfication if this does not work. See above.\n",
    "# output_folder = Path('~/Yolo_Code/prtm_yolo/runs/detect/out_beach').expanduser()\n",
    "# If folder does not exist it will create\n",
    "os.makedirs(output_folder, exist_ok=True)\n",
    "# Converts to a string\n",
    "output_folder = str(output_folder)\n",
    "# Verify the folder is correct\n",
    "print(output_folder)"
   ]
  },
  {
   "cell_type": "code",
   "execution_count": 7,
   "metadata": {},
   "outputs": [],
   "source": [
    "model = YOLO(r'D:/Yolo_Code/prtm_yolo/Code/runs/train/custom_yolo8s_experiment_ver611/weights/best.pt',)"
   ]
  },
  {
   "cell_type": "code",
   "execution_count": null,
   "metadata": {},
   "outputs": [],
   "source": [
    "\n",
    "# YOLO8 class labels based on the .yaml dataset (you can extract this programmatically from model.names)\n",
    "class_names = model.names  # This will contain a list of Yolo8 class names\n",
    "\n",
    "# Creates empty list for CSV data. Each iteration is appended\n",
    "detection_data = []\n",
    "\n",
    "# Filename for the CSV data\n",
    "csv_filename = 'detections.csv'\n",
    "\n",
    "# Loop through each file in the folder\n",
    "for filename in os.listdir(image_folder):\n",
    "    if filename.lower().endswith(('.png', '.jpg', '.jpeg')):\n",
    "        \"\"\" image_path = os.path.join(image_folder, filename) \"\"\"\n",
    "        \"\"\" results = model.predict(source=image_path, save=True) \"\"\"\n",
    "        # \n",
    "        image_path = os.path.join(image_folder, filename)\n",
    "        results = model.predict(source=image_path, save=True, project=output_folder, name='annotated_images_roboflow_version_6_human_people', exist_ok=True)\n",
    "\n",
    "        # Extract detection details\n",
    "        for result in results:\n",
    "            for detection in result.boxes.data:\n",
    "                x1, y1, x2, y2, confidence, class_id = detection[:6]\n",
    "                class_id = int(class_id.item())\n",
    "                class_name = class_names[class_id] \n",
    "                detection_data.append([filename, x1.item(), y1.item(), x2.item(), y2.item(), confidence.item(), class_id, class_name])\n",
    "\n",
    "                # Save detection results to CSV\n",
    "                with open(csv_filename, 'w', newline='') as csvfile:\n",
    "                    csvwriter = csv.writer(csvfile)\n",
    "                # Write the header\n",
    "                    csvwriter.writerow(['filename','x1', 'y1', 'x2', 'y2', 'confidence', 'class_id', 'class_name'])\n",
    "                # Write detection data\n",
    "                    csvwriter.writerows(detection_data)\n",
    "\n",
    "        print(f\"Processed image: {filename}\")\n",
    "print(\"Inference completed for all images.\")\n"
   ]
  },
  {
   "cell_type": "code",
   "execution_count": null,
   "metadata": {},
   "outputs": [],
   "source": [
    "import pandas as pd\n",
    "\n",
    "# Load the CSV file into a DataFrame\n",
    "detections_df = pd.read_csv('D:\\Yolo_Code\\prtm_yolo\\Code\\detections.csv')\n",
    "\n",
    "# Group by filename and class_name and count the number of detections for each class\n",
    "grouped_df = detections_df.groupby(['filename', 'class_name']).size().reset_index(name='count')\n",
    "\n",
    "# Pivot the table to get a more readable format with filenames as rows and class names as columns\n",
    "pivot_df = grouped_df.pivot(index='filename', columns='class_name', values='count').fillna(0)\n",
    "\n",
    "# Reset index to make 'filename' a column again\n",
    "pivot_df = pivot_df.reset_index()\n",
    "\n",
    "# Display the resulting DataFrame\n",
    "print(pivot_df)\n",
    "\n",
    "# Save the resulting DataFrame to a new CSV file\n",
    "pivot_df.to_csv('D:\\Yolo_Code\\prtm_yolo\\datasets\\Lake_Anna_Picnic\\detections_pivot_sum_by_class.csv', index=False)"
   ]
  }
 ],
 "metadata": {
  "kernelspec": {
   "display_name": "Python 3",
   "language": "python",
   "name": "python3"
  },
  "language_info": {
   "codemirror_mode": {
    "name": "ipython",
    "version": 3
   },
   "file_extension": ".py",
   "mimetype": "text/x-python",
   "name": "python",
   "nbconvert_exporter": "python",
   "pygments_lexer": "ipython3",
   "version": "3.12.6"
  },
  "orig_nbformat": 4
 },
 "nbformat": 4,
 "nbformat_minor": 2
}
