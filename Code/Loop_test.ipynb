{
 "cells": [
  {
   "cell_type": "code",
   "execution_count": 3,
   "metadata": {},
   "outputs": [],
   "source": [
    "import os \n",
    "from ultralytics import YOLO\n",
    "from pathlib import Path\n",
    "import cv2\n",
    "import csv"
   ]
  },
  {
   "cell_type": "code",
   "execution_count": 4,
   "metadata": {},
   "outputs": [],
   "source": [
    "# Load your YOLO model\n",
    "model = YOLO('yolov8n.pt')"
   ]
  },
  {
   "cell_type": "code",
   "execution_count": null,
   "metadata": {},
   "outputs": [],
   "source": [
    "# Train model\n",
    "results = model.train(data=\"coco8.yaml\", epochs=100, imgsz=640)"
   ]
  },
  {
   "cell_type": "code",
   "execution_count": null,
   "metadata": {},
   "outputs": [],
   "source": [
    "# Path to the folder containing images\n",
    "#image_path = '/Users/davidwhite/Yolo_Code/prtm_yolo/datasets'\n",
    "image_path = Path('~/Yolo_Code/prtm_yolo/datasets/fh.png').expanduser()\n",
    "image_path = str(image_path)\n",
    "print(image_path)"
   ]
  },
  {
   "cell_type": "code",
   "execution_count": null,
   "metadata": {},
   "outputs": [],
   "source": [
    "# Perform inference on a single image\n",
    "results = model.predict(source=Path('~/Yolo_Code/prtm_yolo/datasets/fh.png').expanduser(), save=True)\n",
    "\n",
    "# Extract detection details\n",
    "detection_data = []\n",
    "for result in results:\n",
    "    for detection in result.boxes.data:\n",
    "        x1, y1, x2, y2, confidence, class_id = detection[:6]\n",
    "        detection_data.append([x1.item(), y1.item(), x2.item(), y2.item(), confidence.item(), int(class_id)])\n",
    "\n",
    "# Save detection results to CSV\n",
    "csv_filename = 'detections.csv'\n",
    "with open(csv_filename, 'w', newline='') as csvfile:\n",
    "    csvwriter = csv.writer(csvfile)\n",
    "    # Write the header\n",
    "    csvwriter.writerow(['x1', 'y1', 'x2', 'y2', 'confidence', 'class_id'])\n",
    "    # Write detection data\n",
    "    csvwriter.writerows(detection_data)\n",
    "\n",
    "\"\"\" # Optional: Display the image with detections (for visualization) \"\"\"\n",
    "\"\"\" image = cv2.imread(image_path) \"\"\"\n",
    "\"\"\" for detection in detection_data: \"\"\"\n",
    "\"\"\"     x1, y1, x2, y2 = map(int, detection[:4]) \"\"\"\n",
    "\"\"\"     cv2.rectangle(image, (x1, y1), (x2, y2), (0, 255, 0), 2)  # Draw bounding box \"\"\"\n",
    "\"\"\"  \"\"\"\n",
    "\"\"\" cv2.imshow('YOLO Detections', image) \"\"\"\n",
    "\"\"\" cv2.waitKey(0) \"\"\"\n",
    "\"\"\" cv2.destroyAllWindows() \"\"\""
   ]
  },
  {
   "cell_type": "code",
   "execution_count": null,
   "metadata": {},
   "outputs": [],
   "source": [
    "# Path to the folder containing images\n",
    "# image_folder = '/Users/davidwhite/Yolo_Code/prtm_yolo/datasets/test'\n",
    "\n",
    "image_folder = Path('~/Yolo_Code/prtm_yolo/datasets/Lake_Anna_Picnic/').expanduser()\n",
    "image_folder = str(image_folder)\n",
    "print(image_folder)\n",
    "\n"
   ]
  },
  {
   "cell_type": "code",
   "execution_count": null,
   "metadata": {},
   "outputs": [],
   "source": [
    "\n",
    "# COCO class labels based on the COCO dataset (you can extract this programmatically from model.names)\n",
    "class_names = model.names  # This will contain a list of COCO class names\n",
    "\n",
    "detection_data = []\n",
    "\n",
    "#csv_filename = os.path.join(output_dir, 'detections.csv')\n",
    "csv_filename = 'detections.csv'\n",
    "\n",
    "# Loop through each file in the folder\n",
    "for filename in os.listdir(image_folder):\n",
    "    if filename.lower().endswith(('.png', '.jpg', '.jpeg')):\n",
    "        image_path = os.path.join(image_folder, filename)\n",
    "        results = model.predict(source=image_path, save=True)\n",
    "\n",
    "        # Extract detection details\n",
    "        for result in results:\n",
    "            for detection in result.boxes.data:\n",
    "                x1, y1, x2, y2, confidence, class_id = detection[:6]\n",
    "                class_id = int(class_id.item())\n",
    "                class_name = class_names[class_id] \n",
    "                detection_data.append([filename, x1.item(), y1.item(), x2.item(), y2.item(), confidence.item(), class_id, class_name])\n",
    "\n",
    "                # Save detection results to CSV\n",
    "                with open(csv_filename, 'w', newline='') as csvfile:\n",
    "                    csvwriter = csv.writer(csvfile)\n",
    "                # Write the header\n",
    "                    csvwriter.writerow(['filename','x1', 'y1', 'x2', 'y2', 'confidence', 'class_id', 'class_name'])\n",
    "                # Write detection data\n",
    "                    csvwriter.writerows(detection_data)\n",
    "\n",
    "        print(f\"Processed image: {filename}\")\n",
    "print(\"Inference completed for all images.\")\n",
    "\n"
   ]
  }
 ],
 "metadata": {
  "kernelspec": {
   "display_name": "Python 3",
   "language": "python",
   "name": "python3"
  },
  "language_info": {
   "codemirror_mode": {
    "name": "ipython",
    "version": 3
   },
   "file_extension": ".py",
   "mimetype": "text/x-python",
   "name": "python",
   "nbconvert_exporter": "python",
   "pygments_lexer": "ipython3",
   "version": "3.12.6"
  },
  "orig_nbformat": 4
 },
 "nbformat": 4,
 "nbformat_minor": 2
}
